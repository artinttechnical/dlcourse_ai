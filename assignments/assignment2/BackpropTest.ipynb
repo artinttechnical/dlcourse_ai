{
 "cells": [
  {
   "cell_type": "code",
   "execution_count": 1,
   "metadata": {},
   "outputs": [],
   "source": [
    "import math"
   ]
  },
  {
   "cell_type": "code",
   "execution_count": 2,
   "metadata": {},
   "outputs": [],
   "source": [
    "def f(x):\n",
    "    return x ** 2 / (math.sin(x) ** 3 - math.log(x))"
   ]
  },
  {
   "cell_type": "code",
   "execution_count": 8,
   "metadata": {},
   "outputs": [],
   "source": [
    "def der_f(x):\n",
    "    return 2 * x / (math.sin(x) ** 3 - math.log(x)) - (3 * x ** 2 * math.sin(x) ** 2 * math.cos(x) - x) / (math.sin(x) ** 3 - math.log(x)) ** 2"
   ]
  },
  {
   "cell_type": "code",
   "execution_count": 10,
   "metadata": {},
   "outputs": [],
   "source": [
    "def numder_f(x):\n",
    "    return (f(x + 1e-5) - f(x - 1e-5)) / 2e-5"
   ]
  },
  {
   "cell_type": "code",
   "execution_count": 15,
   "metadata": {},
   "outputs": [],
   "source": [
    "def step_f(x):\n",
    "    funcs = {}\n",
    "    funcs[\"x\"] = x\n",
    "    funcs[\"s\"] = math.sin(x)\n",
    "    funcs[\"c\"] = x ** 2\n",
    "    funcs[\"l\"] = math.log(x)\n",
    "    funcs[\"q\"] = funcs[\"s\"] ** 3\n",
    "    funcs[\"n\"] = funcs[\"q\"] - funcs[\"l\"]\n",
    "    funcs[\"f\"] = funcs[\"c\"] / funcs[\"n\"]\n",
    "    return funcs"
   ]
  },
  {
   "cell_type": "code",
   "execution_count": 20,
   "metadata": {},
   "outputs": [],
   "source": [
    "def step_der_f(x, funcs):\n",
    "    ders = {}\n",
    "    ders[\"dc\"] = 1 / funcs[\"n\"]\n",
    "    ders[\"dn\"] = -funcs[\"c\"] / funcs[\"n\"] ** 2\n",
    "    ders[\"dq\"] = ders[\"dn\"]\n",
    "    ders[\"dl\"] = -ders[\"dn\"]\n",
    "    ders[\"ds\"] = ders[\"dq\"] * 3 * funcs[\"s\"] ** 2\n",
    "    ders[\"dx\"] = []\n",
    "    ders[\"dx\"].append(ders[\"ds\"] * math.cos(x))\n",
    "    ders[\"dx\"].append(ders[\"dc\"] * 2 * funcs[\"x\"])\n",
    "    ders[\"dx\"].append(ders[\"dl\"] / funcs[\"x\"])\n",
    "    return ders"
   ]
  },
  {
   "cell_type": "code",
   "execution_count": 23,
   "metadata": {},
   "outputs": [
    {
     "name": "stdout",
     "output_type": "stream",
     "text": [
      "0.6713619362617669 0.671361936518261 0.6713619362617669\n"
     ]
    }
   ],
   "source": [
    "x = .3\n",
    "print(der_f(x), numder_f(x), sum(step_der_f(x, step_f(x))[\"dx\"]))"
   ]
  }
 ],
 "metadata": {
  "kernelspec": {
   "display_name": "Python 3",
   "language": "python",
   "name": "python3"
  },
  "language_info": {
   "codemirror_mode": {
    "name": "ipython",
    "version": 3
   },
   "file_extension": ".py",
   "mimetype": "text/x-python",
   "name": "python",
   "nbconvert_exporter": "python",
   "pygments_lexer": "ipython3",
   "version": "3.5.2"
  }
 },
 "nbformat": 4,
 "nbformat_minor": 2
}

{
 "cells": [
  {
   "cell_type": "markdown",
   "metadata": {
    "colab_type": "text",
    "id": "8z4orEmUDG-2"
   },
   "source": [
    "# Задание 2.2 - Введение в PyTorch\n",
    "\n",
    "Для этого задания потребуется установить версию PyTorch 1.0\n",
    "\n",
    "https://pytorch.org/get-started/locally/\n",
    "\n",
    "В этом задании мы познакомимся с основными компонентами PyTorch и натренируем несколько небольших моделей.<br>\n",
    "GPU нам пока не понадобится.\n",
    "\n",
    "Основные ссылки:  \n",
    "https://pytorch.org/tutorials/beginner/deep_learning_60min_blitz.html  \n",
    "https://pytorch.org/docs/stable/nn.html  \n",
    "https://pytorch.org/docs/stable/torchvision/index.html  "
   ]
  },
  {
   "cell_type": "code",
   "execution_count": 0,
   "metadata": {
    "colab": {},
    "colab_type": "code",
    "id": "wMYGGUuqDG-8",
    "scrolled": true
   },
   "outputs": [],
   "source": [
    "import torch\n",
    "import torch.nn as nn\n",
    "import torch.optim as optim\n",
    "import torchvision.datasets as dset\n",
    "from torch.utils.data.sampler import SubsetRandomSampler, Sampler\n",
    "\n",
    "from torchvision import transforms\n",
    "\n",
    "import matplotlib.pyplot as plt\n",
    "%matplotlib inline\n",
    "\n",
    "import numpy as np"
   ]
  },
  {
   "cell_type": "code",
   "execution_count": 0,
   "metadata": {
    "colab": {
     "base_uri": "https://localhost:8080/",
     "height": 124
    },
    "colab_type": "code",
    "id": "0fvGLHnqDG_L",
    "outputId": "34d42741-3aa9-4c41-d2e3-35acb8d939e0"
   },
   "outputs": [
    {
     "name": "stdout",
     "output_type": "stream",
     "text": [
      "Go to this URL in a browser: https://accounts.google.com/o/oauth2/auth?client_id=947318989803-6bn6qk8qdgf4n4g3pfee6491hc0brc4i.apps.googleusercontent.com&redirect_uri=urn%3Aietf%3Awg%3Aoauth%3A2.0%3Aoob&scope=email%20https%3A%2F%2Fwww.googleapis.com%2Fauth%2Fdocs.test%20https%3A%2F%2Fwww.googleapis.com%2Fauth%2Fdrive%20https%3A%2F%2Fwww.googleapis.com%2Fauth%2Fdrive.photos.readonly%20https%3A%2F%2Fwww.googleapis.com%2Fauth%2Fpeopleapi.readonly&response_type=code\n",
      "\n",
      "Enter your authorization code:\n",
      "··········\n",
      "Mounted at /content/gdrive\n"
     ]
    }
   ],
   "source": [
    "try:\n",
    "    from google.colab import drive\n",
    "    \n",
    "    drive.mount('/content/gdrive')\n",
    "    dataset_path = \"gdrive/My Drive/Colab Notebooks/data\"\n",
    "except:\n",
    "    in_colab = False\n",
    "    dataset_path = \"./data\"\n"
   ]
  },
  {
   "cell_type": "code",
   "execution_count": 0,
   "metadata": {
    "colab": {
     "base_uri": "https://localhost:8080/",
     "height": 34
    },
    "colab_type": "code",
    "id": "9-DrYW54DG_U",
    "outputId": "829f19af-e687-455b-9b64-5d97e0dff434"
   },
   "outputs": [
    {
     "name": "stdout",
     "output_type": "stream",
     "text": [
      "Calculate at  cuda\n"
     ]
    }
   ],
   "source": [
    "# calc_device = \"cpu\"\n",
    "calc_device = torch.device(\"cuda\" if torch.cuda.is_available() else \"cpu\")\n",
    "print(\"Calculate at \", calc_device)\n",
    "\n",
    "torch.manual_seed(0)\n",
    "\n",
    "torch.backends.cudnn.deterministic = True\n",
    "torch.backends.cudnn.benchmark = False\n",
    "\n",
    "np.random.seed(0)\n",
    "\n"
   ]
  },
  {
   "cell_type": "markdown",
   "metadata": {
    "colab_type": "text",
    "id": "r9aU74msDG_d"
   },
   "source": [
    "## Как всегда, начинаем с загрузки данных\n",
    "\n",
    "PyTorch поддерживает загрузку SVHN из коробки."
   ]
  },
  {
   "cell_type": "code",
   "execution_count": 0,
   "metadata": {
    "colab": {},
    "colab_type": "code",
    "id": "biHuwHxtDG_g",
    "scrolled": true
   },
   "outputs": [],
   "source": [
    "# First, lets load the dataset\n",
    "data_train = dset.SVHN(dataset_path, split='train',\n",
    "                       transform=transforms.Compose([\n",
    "                           transforms.ToTensor(),\n",
    "                           transforms.Normalize(mean=[0.43,0.44,0.47],\n",
    "                                               std=[0.20,0.20,0.20])                           \n",
    "                       ])\n",
    "                      )\n",
    "data_test = dset.SVHN(dataset_path, split='test', \n",
    "                      transform=transforms.Compose([\n",
    "                           transforms.ToTensor(),\n",
    "                           transforms.Normalize(mean=[0.43,0.44,0.47],\n",
    "                                               std=[0.20,0.20,0.20])                           \n",
    "                       ]))"
   ]
  },
  {
   "cell_type": "markdown",
   "metadata": {
    "colab_type": "text",
    "id": "TLtrK14XDG_n"
   },
   "source": [
    "Теперь мы разделим данные на training и validation с использованием классов `SubsetRandomSampler` и `DataLoader`.\n",
    "\n",
    "`DataLoader` подгружает данные, предоставляемые классом `Dataset`, во время тренировки и группирует их в батчи.\n",
    "Он дает возможность указать `Sampler`, который выбирает, какие примеры из датасета использовать для тренировки. Мы используем это, чтобы разделить данные на training и validation.\n",
    "\n",
    "Подробнее: https://pytorch.org/tutorials/beginner/data_loading_tutorial.html"
   ]
  },
  {
   "cell_type": "code",
   "execution_count": 0,
   "metadata": {
    "colab": {},
    "colab_type": "code",
    "id": "NGM-Nf_SDG_p",
    "scrolled": true
   },
   "outputs": [],
   "source": [
    "batch_size = 64\n",
    "\n",
    "data_size = data_train.data.shape[0]\n",
    "validation_split = .2\n",
    "split = int(np.floor(validation_split * data_size))\n",
    "indices = list(range(data_size))\n",
    "np.random.shuffle(indices)\n",
    "\n",
    "train_indices, val_indices = indices[split:], indices[:split]\n",
    "\n",
    "train_sampler = SubsetRandomSampler(train_indices)\n",
    "val_sampler = SubsetRandomSampler(val_indices)\n",
    "\n",
    "train_loader = torch.utils.data.DataLoader(data_train, batch_size=batch_size, \n",
    "                                           sampler=train_sampler)\n",
    "val_loader = torch.utils.data.DataLoader(data_train, batch_size=batch_size,\n",
    "                                         sampler=val_sampler)"
   ]
  },
  {
   "cell_type": "markdown",
   "metadata": {
    "colab_type": "text",
    "id": "z1L-7aQ4DG_x"
   },
   "source": [
    "В нашей задаче мы получаем на вход изображения, но работаем с ними как с одномерными массивами. Чтобы превратить многомерный массив в одномерный, мы воспользуемся очень простым вспомогательным модулем `Flattener`."
   ]
  },
  {
   "cell_type": "code",
   "execution_count": 0,
   "metadata": {
    "colab": {
     "base_uri": "https://localhost:8080/",
     "height": 34
    },
    "colab_type": "code",
    "id": "SLTYOLWeDG_0",
    "outputId": "7765f667-0f70-49c3-e0b4-056c69d7b6b6",
    "scrolled": true
   },
   "outputs": [
    {
     "name": "stdout",
     "output_type": "stream",
     "text": [
      "SVHN data sample shape:  torch.Size([3, 32, 32])\n"
     ]
    }
   ],
   "source": [
    "sample, label = data_train[0]\n",
    "print(\"SVHN data sample shape: \", sample.shape)\n",
    "# As you can see, the data is shaped like an image\n",
    "\n",
    "# We'll use a special helper module to shape it into a tensor\n",
    "class Flattener(nn.Module):\n",
    "    def forward(self, x):\n",
    "        batch_size, *_ = x.shape\n",
    "        return x.view(batch_size, -1)"
   ]
  },
  {
   "cell_type": "markdown",
   "metadata": {
    "colab_type": "text",
    "id": "WDFzCz54DHAF"
   },
   "source": [
    "И наконец, мы создаем основные объекты PyTorch:\n",
    "- `nn_model` - собственно, модель с нейросетью\n",
    "- `loss` - функцию ошибки, в нашем случае `CrossEntropyLoss`\n",
    "- `optimizer` - алгоритм оптимизации, в нашем случае просто `SGD`"
   ]
  },
  {
   "cell_type": "code",
   "execution_count": 0,
   "metadata": {
    "colab": {},
    "colab_type": "code",
    "id": "M80iKxWzDHAI",
    "scrolled": true
   },
   "outputs": [],
   "source": [
    "nn_model = nn.Sequential(\n",
    "            Flattener(),\n",
    "            nn.Linear(3*32*32, 100),\n",
    "            nn.ReLU(inplace=True),\n",
    "            nn.Linear(100, 10), \n",
    "         )\n",
    "nn_model.type(torch.FloatTensor)\n",
    "nn_model.to(calc_device)\n",
    "\n",
    "# We will minimize cross-entropy between the ground truth and\n",
    "# network predictions using an SGD optimizer\n",
    "loss = nn.CrossEntropyLoss().type(torch.FloatTensor)\n",
    "optimizer = optim.SGD(nn_model.parameters(), lr=1e-2, weight_decay=1e-1)"
   ]
  },
  {
   "cell_type": "markdown",
   "metadata": {
    "colab_type": "text",
    "id": "04PQfQ7IDHAP"
   },
   "source": [
    "## Тренируем!\n",
    "\n",
    "Ниже приведена функция `train_model`, реализующая основной цикл тренировки PyTorch.\n",
    "\n",
    "Каждую эпоху эта функция вызывает функцию `compute_accuracy`, которая вычисляет точность на validation, эту последнюю функцию предлагается реализовать вам."
   ]
  },
  {
   "cell_type": "code",
   "execution_count": 0,
   "metadata": {
    "colab": {
     "base_uri": "https://localhost:8080/",
     "height": 104
    },
    "colab_type": "code",
    "id": "XvbBSvuWDHAR",
    "outputId": "aaf1f4d6-92aa-43e7-e87b-f53c5be9c592",
    "scrolled": false
   },
   "outputs": [
    {
     "name": "stdout",
     "output_type": "stream",
     "text": [
      "Average loss: 1.810548, Train accuracy: 0.417176, Val accuracy: 0.545765\n",
      "Average loss: 1.454735, Train accuracy: 0.583558, Val accuracy: 0.600642\n",
      "Average loss: 1.379601, Train accuracy: 0.620005, Val accuracy: 0.615112\n",
      "CPU times: user 55.1 s, sys: 1.03 s, total: 56.2 s\n",
      "Wall time: 56.3 s\n"
     ]
    }
   ],
   "source": [
    "# This is how to implement the same main train loop in PyTorch. Pretty easy, right?\n",
    "\n",
    "def train_model(model, train_loader, val_loader, loss, optimizer, num_epochs, scheduler = None):    \n",
    "    loss_history = []\n",
    "    train_history = []\n",
    "    val_history = []\n",
    "    for epoch in range(num_epochs):\n",
    "        model.train() # Enter train mode\n",
    "        \n",
    "        loss_accum = 0\n",
    "        correct_samples = 0\n",
    "        total_samples = 0\n",
    "        for i_step, (x_ld, y_ld) in enumerate(train_loader):\n",
    "            x = x_ld.to(calc_device)\n",
    "            y = y_ld.to(calc_device)\n",
    "            prediction = model(x)   \n",
    "            loss_value = loss(prediction, y)\n",
    "            optimizer.zero_grad()\n",
    "            loss_value.backward()\n",
    "            optimizer.step()\n",
    "            \n",
    "            _, indices = torch.max(prediction, 1)\n",
    "            correct_samples += torch.sum(indices == y)\n",
    "            total_samples += y.shape[0]\n",
    "            \n",
    "            loss_accum += loss_value\n",
    "\n",
    "        ave_loss = loss_accum / (i_step + 1)\n",
    "        train_accuracy = float(correct_samples) / total_samples\n",
    "        val_accuracy = compute_accuracy(model, val_loader)\n",
    "        \n",
    "        loss_history.append(float(ave_loss))\n",
    "        train_history.append(train_accuracy)\n",
    "        val_history.append(val_accuracy)\n",
    "        \n",
    "        if scheduler:\n",
    "            scheduler.step()\n",
    "        \n",
    "        print(\"Average loss: %f, Train accuracy: %f, Val accuracy: %f\" % (ave_loss, train_accuracy, val_accuracy))\n",
    "        \n",
    "    return loss_history, train_history, val_history\n",
    "        \n",
    "def compute_accuracy(model, loader):\n",
    "    \"\"\"\n",
    "    Computes accuracy on the dataset wrapped in a loader\n",
    "    \n",
    "    Returns: accuracy as a float value between 0 and 1\n",
    "    \"\"\"\n",
    "    model.eval() # Evaluation mode\n",
    "    # TODO: Implement the inference of the model on all of the batches from loader,\n",
    "    #       and compute the overall accuracy.\n",
    "    # Hint: PyTorch has the argmax function!\n",
    "    \n",
    "    correct = 0\n",
    "    total = 0\n",
    "    for _, (params_ld, corr_answers_ld) in enumerate(loader):\n",
    "        params = params_ld.to(calc_device)\n",
    "        corr_answers = corr_answers_ld.to(calc_device)\n",
    "        predictions = model(params).argmax(dim = 1)\n",
    "        corr_predicted = predictions == corr_answers\n",
    "        total += corr_answers.size()[0]\n",
    "        correct += corr_predicted.sum().item()\n",
    "        \n",
    "    return correct / total\n",
    "\n",
    "%time loss_history, train_history, val_history = train_model(nn_model, train_loader, val_loader, loss, optimizer, 3)"
   ]
  },
  {
   "cell_type": "markdown",
   "metadata": {
    "colab_type": "text",
    "id": "EhnSZvHyDHAe"
   },
   "source": [
    "## После основного цикла\n",
    "\n",
    "Посмотрим на другие возможности и оптимизации, которые предоставляет PyTorch.\n",
    "\n",
    "Добавьте еще один скрытый слой размера 100 нейронов к модели"
   ]
  },
  {
   "cell_type": "code",
   "execution_count": 0,
   "metadata": {
    "colab": {},
    "colab_type": "code",
    "id": "RnTHhFSrDHAh",
    "scrolled": true
   },
   "outputs": [],
   "source": [
    "# Since it's so easy to add layers, let's add some!\n",
    "\n",
    "# TODO: Implement a model with 2 hidden layers of the size 100\n",
    "nn_model = nn.Sequential(\n",
    "    Flattener(),\n",
    "    nn.Linear(3 * 32 * 32, 100),\n",
    "    nn.ReLU(inplace = True),\n",
    "    nn.Linear(100, 100),\n",
    "    nn.ReLU(inplace = True),\n",
    "    nn.Linear(100, 10),\n",
    "       )\n",
    "nn_model.type(torch.FloatTensor)\n",
    "nn_model.to(calc_device)\n",
    "\n",
    "optimizer = optim.SGD(nn_model.parameters(), lr=1e-2, weight_decay=1e-1)\n",
    "%time loss_history, train_history, val_history = train_model(nn_model, train_loader, val_loader, loss, optimizer, 5)"
   ]
  },
  {
   "cell_type": "markdown",
   "metadata": {
    "colab_type": "text",
    "id": "YiZbzUBXDHAo"
   },
   "source": [
    "Добавьте слой с Batch Normalization"
   ]
  },
  {
   "cell_type": "code",
   "execution_count": 0,
   "metadata": {
    "colab": {
     "base_uri": "https://localhost:8080/",
     "height": 139
    },
    "colab_type": "code",
    "id": "kPS5sNM8DHAr",
    "outputId": "9b5fffb1-52e3-47bb-cc4a-978fbf94c1fc",
    "scrolled": true
   },
   "outputs": [
    {
     "name": "stdout",
     "output_type": "stream",
     "text": [
      "Average loss: 2.224680, Train accuracy: 0.216155, Val accuracy: 0.331581\n",
      "Average loss: 2.065752, Train accuracy: 0.347081, Val accuracy: 0.374172\n",
      "Average loss: 1.960230, Train accuracy: 0.379978, Val accuracy: 0.407617\n",
      "Average loss: 1.885785, Train accuracy: 0.416886, Val accuracy: 0.437513\n",
      "Average loss: 1.827686, Train accuracy: 0.448674, Val accuracy: 0.472118\n",
      "CPU times: user 59.6 s, sys: 1.02 s, total: 1min\n",
      "Wall time: 1min\n"
     ]
    }
   ],
   "source": [
    "# We heard batch normalization is powerful, let's use it!\n",
    "# TODO: Add batch normalization after each of the hidden layers of the network, before or after non-linearity\n",
    "# Hint: check out torch.nn.BatchNorm1d\n",
    "\n",
    "nn_model = nn.Sequential(\n",
    "    Flattener(),\n",
    "    nn.Linear(3 * 32 * 32, 100),\n",
    "    nn.BatchNorm1d(100),\n",
    "    nn.ReLU(inplace = True),\n",
    "    nn.Linear(100, 100),\n",
    "    nn.BatchNorm1d(100),\n",
    "    nn.ReLU(inplace = True),\n",
    "    nn.Linear(100, 10),\n",
    "         )\n",
    "nn_model.to(calc_device)\n",
    "\n",
    "optimizer = optim.SGD(nn_model.parameters(), lr=1e-3, weight_decay=1e-1)\n",
    "%time loss_history, train_history, val_history = train_model(nn_model, train_loader, val_loader, loss, optimizer, 5)"
   ]
  },
  {
   "cell_type": "markdown",
   "metadata": {
    "colab_type": "text",
    "id": "5j4-UT_GDHA3"
   },
   "source": [
    "Добавьте уменьшение скорости обучения по ходу тренировки."
   ]
  },
  {
   "cell_type": "code",
   "execution_count": 0,
   "metadata": {
    "colab": {
     "base_uri": "https://localhost:8080/",
     "height": 225
    },
    "colab_type": "code",
    "id": "xH4_U7RWDHA5",
    "outputId": "def3ab2d-15a2-480f-b91a-2e8afd392410",
    "scrolled": true
   },
   "outputs": [
    {
     "name": "stdout",
     "output_type": "stream",
     "text": [
      "Average loss: 2.188801, Train accuracy: 0.237109, Val accuracy: 0.310627\n",
      "Average loss: 2.013620, Train accuracy: 0.341467, Val accuracy: 0.375674\n",
      "Average loss: 1.927476, Train accuracy: 0.385182, Val accuracy: 0.402839\n",
      "Average loss: 1.882697, Train accuracy: 0.406989, Val accuracy: 0.417582\n",
      "Average loss: 1.851529, Train accuracy: 0.420895, Val accuracy: 0.426933\n",
      "Average loss: 1.833001, Train accuracy: 0.429512, Val accuracy: 0.440243\n",
      "Average loss: 1.818661, Train accuracy: 0.434802, Val accuracy: 0.442837\n",
      "Average loss: 1.810496, Train accuracy: 0.439187, Val accuracy: 0.441130\n",
      "Average loss: 1.803787, Train accuracy: 0.441405, Val accuracy: 0.443792\n",
      "Average loss: 1.800283, Train accuracy: 0.442224, Val accuracy: 0.446318\n",
      "CPU times: user 3min 13s, sys: 3.8 s, total: 3min 16s\n",
      "Wall time: 3min 17s\n"
     ]
    }
   ],
   "source": [
    "# Learning rate annealing\n",
    "# Reduce your learning rate 2x every 2 epochs\n",
    "# Hint: look up learning rate schedulers in PyTorch. You might need to extend train_model function a little bit too!\n",
    "\n",
    "nn_model = nn.Sequential(    \n",
    "    Flattener(),\n",
    "    nn.Linear(3 * 32 * 32, 100),\n",
    "    nn.BatchNorm1d(100),\n",
    "    nn.ReLU(inplace = True),\n",
    "    nn.Linear(100, 100),\n",
    "    nn.BatchNorm1d(100),\n",
    "    nn.ReLU(inplace = True),\n",
    "    nn.Linear(100, 10),\n",
    "     )\n",
    "\n",
    "nn_model.to(calc_device)\n",
    "stepped_optimizer = optim.SGD(nn_model.parameters(), lr=1e-3, weight_decay=1e-1)\n",
    "scheduler = optim.lr_scheduler.StepLR(stepped_optimizer, step_size = 2, gamma = 0.5)\n",
    "\n",
    "# loss_history, train_history, val_history = train_model()\n",
    "%time loss_history, train_history, val_history = train_model(nn_model, train_loader, val_loader, loss, stepped_optimizer, 10, scheduler=scheduler)"
   ]
  },
  {
   "cell_type": "markdown",
   "metadata": {
    "colab_type": "text",
    "id": "wKstDjEPDHBE"
   },
   "source": [
    "# Визуализируем ошибки модели\n",
    "\n",
    "Попробуем посмотреть, на каких изображениях наша модель ошибается.\n",
    "Для этого мы получим все предсказания модели на validation set и сравним их с истинными метками (ground truth).\n",
    "\n",
    "Первая часть - реализовать код на PyTorch, который вычисляет все предсказания модели на validation set.  \n",
    "Чтобы это сделать мы приводим код `SubsetSampler`, который просто проходит по всем заданным индексам последовательно и составляет из них батчи. \n",
    "\n",
    "Реализуйте функцию `evaluate_model`, которая прогоняет модель через все сэмплы validation set и запоминает предсказания модели и истинные метки."
   ]
  },
  {
   "cell_type": "code",
   "execution_count": 0,
   "metadata": {
    "colab": {
     "base_uri": "https://localhost:8080/",
     "height": 52
    },
    "colab_type": "code",
    "id": "7DV86YVlc3mJ",
    "outputId": "9ac60416-7992-4401-9aa3-c4a64d465012"
   },
   "outputs": [
    {
     "name": "stdout",
     "output_type": "stream",
     "text": [
      "CPU times: user 19.9 s, sys: 275 ms, total: 20.2 s\n",
      "Wall time: 20.2 s\n"
     ]
    }
   ],
   "source": [
    "class SubsetSampler(Sampler):\n",
    "    r\"\"\"Samples elements with given indices sequentially\n",
    "\n",
    "    Arguments:\n",
    "        indices (ndarray): indices of the samples to take\n",
    "    \"\"\"\n",
    "\n",
    "    def __init__(self, indices):\n",
    "        self.indices = indices\n",
    "\n",
    "    def __iter__(self):\n",
    "        return (self.indices[i] for i in range(len(self.indices)))\n",
    "\n",
    "    def __len__(self):\n",
    "        return len(self.indices)\n",
    "    \n",
    "    \n",
    "def evaluate_model(model, dataset, indices):\n",
    "    \"\"\"\n",
    "    Computes predictions and ground truth labels for the indices of the dataset\n",
    "    \n",
    "    Returns: \n",
    "    predictions: np array of ints - model predictions\n",
    "    grount_truth: np array of ints - actual labels of the dataset\n",
    "    \"\"\"\n",
    "    model.eval() # Evaluation mode\n",
    "    \n",
    "    \n",
    "    # TODO: Evaluate model on the list of indices and capture predictions\n",
    "    # and ground truth labels\n",
    "    # Hint: SubsetSampler above could be useful!\n",
    "    predictions = np.zeros(len(indices), np.int)\n",
    "    ground_truth = np.zeros(len(indices), np.int)\n",
    "\n",
    "    for i in range(len(indices)):\n",
    "        X = dataset[indices[i]][0].view(1, *(dataset[indices[i]][0].shape))\n",
    "        calculated = model(X.to(calc_device))\n",
    "        predictions[i] = calculated.argmax(dim = 1)\n",
    "        ground_truth[i] = dataset[indices[i]][1]\n",
    "    \n",
    "    return predictions, ground_truth\n",
    "\n",
    "# Evaluate model on validation\n",
    "%time predictions, gt = evaluate_model(nn_model, data_train, val_indices)\n",
    "assert len(predictions) == len(val_indices)\n",
    "assert len(gt) == len(val_indices)\n",
    "assert gt[100] == data_train[val_indices[100]][1]\n",
    "assert np.any(np.not_equal(gt, predictions))"
   ]
  },
  {
   "cell_type": "markdown",
   "metadata": {
    "colab_type": "text",
    "id": "I20gxXlhDHBO"
   },
   "source": [
    "## Confusion matrix\n",
    "Первая часть визуализации - вывести confusion matrix (https://en.wikipedia.org/wiki/Confusion_matrix ).\n",
    "\n",
    "Confusion matrix - это матрица, где каждой строке соответствуют классы предсказанный, а столбцу - классы истинных меток (ground truth). Число с координатами `i,j` - это количество сэмплов класса `j`, которые модель считает классом `i`.\n",
    "\n",
    "![image.png](attachment:image.png)\n",
    "\n",
    "Для того, чтобы облегчить вам задачу, ниже реализована функция `visualize_confusion_matrix` которая визуализирует такую матрицу.  \n",
    "Вам осталось реализовать функцию `build_confusion_matrix`, которая ее вычислит.\n",
    "\n",
    "Результатом должна быть матрица 10x10."
   ]
  },
  {
   "cell_type": "code",
   "execution_count": 0,
   "metadata": {
    "colab": {
     "base_uri": "https://localhost:8080/",
     "height": 584
    },
    "colab_type": "code",
    "id": "FixgnysPDHBP",
    "outputId": "987d767c-34d7-43e3-d438-3e257edb2dfb"
   },
   "outputs": [
    {
     "data": {
      "image/png": "[encoded data removed]",
      "text/plain": [
       "<Figure size 720x720 with 2 Axes>"
      ]
     },
     "metadata": {
      "tags": []
     },
     "output_type": "display_data"
    }
   ],
   "source": [
    "def visualize_confusion_matrix(confusion_matrix):\n",
    "    \"\"\"\n",
    "    Visualizes confusion matrix\n",
    "    \n",
    "    confusion_matrix: np array of ints, x axis - predicted class, y axis - actual class\n",
    "                      [i][j] should have the count of samples that were predicted to be class i,\n",
    "                      but have j in the ground truth\n",
    "                     \n",
    "    \"\"\"\n",
    "    # Adapted from \n",
    "    # https://stackoverflow.com/questions/2897826/confusion-matrix-with-number-of-classified-misclassified-instances-on-it-python\n",
    "    assert confusion_matrix.shape[0] == confusion_matrix.shape[1]\n",
    "    size = confusion_matrix.shape[0]\n",
    "    fig = plt.figure(figsize=(10,10))\n",
    "    plt.title(\"Confusion matrix\")\n",
    "    plt.ylabel(\"predicted\")\n",
    "    plt.xlabel(\"ground truth\")\n",
    "    res = plt.imshow(confusion_matrix, cmap='GnBu', interpolation='nearest')\n",
    "    cb = fig.colorbar(res)\n",
    "    plt.xticks(np.arange(size))\n",
    "    plt.yticks(np.arange(size))\n",
    "    for i, row in enumerate(confusion_matrix):\n",
    "        for j, count in enumerate(row):\n",
    "            plt.text(j, i, count, fontsize=14, horizontalalignment='center', verticalalignment='center')\n",
    "    \n",
    "def build_confusion_matrix(predictions, ground_truth):\n",
    "    \"\"\"\n",
    "    Builds confusion matrix from predictions and ground truth\n",
    "\n",
    "    predictions: np array of ints, model predictions for all validation samples\n",
    "    ground_truth: np array of ints, ground truth for all validation samples\n",
    "    \n",
    "    Returns:\n",
    "    np array of ints, (10,10), counts of samples for predicted/ground_truth classes\n",
    "    \"\"\"\n",
    "    confusion_matrix = np.zeros((10,10), np.int)\n",
    "    \n",
    "    for i in range(predictions.shape[0]):\n",
    "        confusion_matrix[predictions[i], ground_truth[i]] += 1\n",
    "    return confusion_matrix\n",
    "\n",
    "confusion_matrix = build_confusion_matrix(predictions, gt)\n",
    "visualize_confusion_matrix(confusion_matrix)"
   ]
  },
  {
   "cell_type": "markdown",
   "metadata": {
    "colab_type": "text",
    "id": "5TEN2uIeDHBW"
   },
   "source": [
    "Наконец, посмотрим на изображения, соответствующие некоторым элементам этой матрицы.\n",
    "\n",
    "Как и раньше, вам дана функция `visualize_images`, которой нужно воспрользоваться при реализации функции `visualize_predicted_actual`. Эта функция должна вывести несколько примеров, соответствующих заданному элементу матрицы.\n",
    "\n",
    "Визуализируйте наиболее частые ошибки и попробуйте понять, почему модель их совершает."
   ]
  },
  {
   "cell_type": "code",
   "execution_count": 0,
   "metadata": {
    "colab": {
     "base_uri": "https://localhost:8080/",
     "height": 229
    },
    "colab_type": "code",
    "id": "viyfBB7Fc3nU",
    "outputId": "3d126e88-d03a-4c67-bbc9-da77947fba7a"
   },
   "outputs": [
    {
     "data": {
      "image/png": "[encoded data removed]",
      "text/plain": [
       "<Figure size 720x108 with 10 Axes>"
      ]
     },
     "metadata": {
      "tags": []
     },
     "output_type": "display_data"
    },
    {
     "data": {
      "image/png": "[encoded data removed]",
      "text/plain": [
       "<Figure size 720x108 with 10 Axes>"
      ]
     },
     "metadata": {
      "tags": []
     },
     "output_type": "display_data"
    }
   ],
   "source": [
    "data_train_images = dset.SVHN(dataset_path, split='train')\n",
    "\n",
    "def visualize_images(indices, data, title='', max_num=10):\n",
    "    \"\"\"\n",
    "    Visualizes several images from the dataset\n",
    " \n",
    "    indices: array of indices to visualize\n",
    "    data: torch Dataset with the images\n",
    "    title: string, title of the plot\n",
    "    max_num: int, max number of images to display\n",
    "    \"\"\"\n",
    "    to_show = min(len(indices), max_num)\n",
    "    fig = plt.figure(figsize=(10,1.5))\n",
    "    fig.suptitle(title)\n",
    "    for i, index in enumerate(indices[:to_show]):\n",
    "        plt.subplot(1,to_show, i+1)\n",
    "        plt.axis('off')\n",
    "        sample = data[index][0]\n",
    "        plt.imshow(sample)\n",
    "        \n",
    "def visualize_predicted_actual(predicted_class, gt_class, predictions, groud_truth, val_indices, data):\n",
    "    \"\"\"\n",
    "    Visualizes images of a ground truth class which were predicted as the other class \n",
    "    \n",
    "    predicted: int 0-9, index of the predicted class\n",
    "    gt_class: int 0-9, index of the ground truth class\n",
    "    predictions: np array of ints, model predictions for all validation samples\n",
    "    ground_truth: np array of ints, ground truth for all validation samples\n",
    "    val_indices: np array of ints, indices of validation samples\n",
    "    \"\"\"\n",
    "\n",
    "    # TODO: Implement visualization using visualize_images above\n",
    "    # predictions and ground_truth are provided for validation set only, defined by val_indices\n",
    "    # Hint: numpy index arrays might be helpful\n",
    "    # https://docs.scipy.org/doc/numpy/user/basics.indexing.html#index-arrays\n",
    "    # Please make the title meaningful!\n",
    "    title = \"Predicting \" + str(predicted_class) + \", expected \" + str(gt_class)\n",
    "#     print(predictions.type, ground_truth.type)\n",
    "    predicted_indices = predictions == predicted_class\n",
    "    ground_truth_indices = groud_truth == gt_class\n",
    "    \n",
    "    visualize_images(val_indices[predicted_indices & ground_truth_indices], data, title)\n",
    "    #raise Exception(\"Not implemented\")\n",
    "    \n",
    "\n",
    "visualize_predicted_actual(6, 8, predictions, gt, np.array(val_indices), data_train_images)\n",
    "visualize_predicted_actual(1, 7, predictions, gt, np.array(val_indices), data_train_images)"
   ]
  },
  {
   "cell_type": "markdown",
   "metadata": {
    "colab_type": "text",
    "id": "kMUCoEdXDHBf"
   },
   "source": [
    "# Переходим к свободным упражнениям!\n",
    "\n",
    "Натренируйте модель как можно лучше - экспериментируйте сами!\n",
    "Что следует обязательно попробовать:\n",
    "- перебор гиперпараметров с помощью валидационной выборки\n",
    "- другие оптимизаторы вместо SGD\n",
    "- изменение количества слоев и их размеров\n",
    "- наличие Batch Normalization\n",
    "\n",
    "Но ограничиваться этим не стоит!\n",
    "\n",
    "Точность на валидацонной выборке должна быть доведена до **60%**\n",
    "\n",
    "За лучший результат в группе вы получите дополнительные баллы :)"
   ]
  },
  {
   "cell_type": "code",
   "execution_count": 0,
   "metadata": {
    "colab": {
     "base_uri": "https://localhost:8080/",
     "height": 52
    },
    "colab_type": "code",
    "id": "37uZitWXDHBh",
    "outputId": "faae8a48-b515-44d2-cbfb-e8aa4eff2b00",
    "scrolled": true
   },
   "outputs": [
    {
     "name": "stdout",
     "output_type": "stream",
     "text": [
      "(array([ 3968, 11134,  8421,  6828,  5974,  5493,  4627,  4483,  3994,\n",
      "        3684]), array([0. , 0.9, 1.8, 2.7, 3.6, 4.5, 5.4, 6.3, 7.2, 8.1, 9. ]))\n"
     ]
    }
   ],
   "source": [
    "#     predicted_indices = predictions == 1\n",
    "#     ground_truth_indices = gt == 7\n",
    "#     valid_np = np.array(val_indices)\n",
    "#     visualize_images(valid_np[predicted_indices & ground_truth_indices], data_train_images, \"\")\n",
    "#     print(valid_np[predicted_indices & ground_truth_indices])\n",
    "#     print(data_train[32138])\n",
    "    result = np.histogram([data_train[i][1] for i in train_indices])\n",
    "    print(result)\n",
    "        \n"
   ]
  },
  {
   "cell_type": "code",
   "execution_count": 42,
   "metadata": {
    "colab": {
     "base_uri": "https://localhost:8080/",
     "height": 225
    },
    "colab_type": "code",
    "id": "phl3IHH9zjuS",
    "outputId": "30463115-4268-48e9-f246-0ff9328c7d79"
   },
   "outputs": [
    {
     "name": "stdout",
     "output_type": "stream",
     "text": [
      "Average loss: 1.919801, Train accuracy: 0.581647, Val accuracy: 0.671695\n",
      "Average loss: 0.874267, Train accuracy: 0.737177, Val accuracy: 0.753532\n",
      "Average loss: 0.744689, Train accuracy: 0.778231, Val accuracy: 0.777763\n",
      "Average loss: 0.663699, Train accuracy: 0.806129, Val accuracy: 0.784725\n",
      "Average loss: 0.608812, Train accuracy: 0.822237, Val accuracy: 0.806225\n",
      "Average loss: 0.565703, Train accuracy: 0.835631, Val accuracy: 0.824995\n",
      "Average loss: 0.534868, Train accuracy: 0.844743, Val accuracy: 0.822265\n",
      "Average loss: 0.505783, Train accuracy: 0.855595, Val accuracy: 0.832571\n",
      "Average loss: 0.483727, Train accuracy: 0.860748, Val accuracy: 0.840966\n",
      "Average loss: 0.463262, Train accuracy: 0.866362, Val accuracy: 0.829158\n",
      "CPU times: user 3min 9s, sys: 4.16 s, total: 3min 13s\n",
      "Wall time: 3min 14s\n"
     ]
    }
   ],
   "source": [
    "torch.manual_seed(0)\n",
    "\n",
    "torch.backends.cudnn.deterministic = True\n",
    "torch.backends.cudnn.benchmark = False\n",
    "\n",
    "np.random.seed(0)\n",
    "\n",
    "nn_model = nn.Sequential(    \n",
    "    Flattener(),\n",
    "    nn.Linear(3 * 32 * 32, 500),\n",
    "    nn.ReLU(inplace = True),\n",
    "    nn.Linear(500, 10),\n",
    "     )\n",
    "\n",
    "nn_model.to(calc_device)\n",
    "# stepped_optimizer = optim.SGD(nn_model.parameters(), lr=1e-2, weight_decay=1e-1)\n",
    "# scheduler = optim.lr_scheduler.StepLR(optimizer, step_size = 2, gamma = 0.5)\n",
    "optimizer = optim.Adagrad(nn_model.parameters(), lr=1e-2)\n",
    "\n",
    "# optimizer = optim.SGD(nn_model.parameters(), lr=1e-2, weight_decay=1e-1)\n",
    "# loss_history, train_history, val_history = train_model()\n",
    "%time loss_history, train_history, val_history = train_model(nn_model, train_loader, val_loader, loss, optimizer, 10)\n",
    "# %time loss_history, train_history, val_history = train_model(nn_model, train_loader, val_loader, loss, stepped_optimizer, 10, scheduler)"
   ]
  },
  {
   "cell_type": "code",
   "execution_count": 43,
   "metadata": {
    "colab": {
     "base_uri": "https://localhost:8080/",
     "height": 225
    },
    "colab_type": "code",
    "id": "p917UfCJK5Ly",
    "outputId": "b844f6fe-c092-4f5e-cbb8-9d5dfbffc72b"
   },
   "outputs": [
    {
     "name": "stdout",
     "output_type": "stream",
     "text": [
      "Average loss: 1.295633, Train accuracy: 0.583660, Val accuracy: 0.670193\n",
      "Average loss: 0.840573, Train accuracy: 0.737331, Val accuracy: 0.763497\n",
      "Average loss: 0.715256, Train accuracy: 0.776081, Val accuracy: 0.797761\n",
      "Average loss: 0.645237, Train accuracy: 0.798297, Val accuracy: 0.797079\n",
      "Average loss: 0.602477, Train accuracy: 0.810924, Val accuracy: 0.819261\n",
      "Average loss: 0.564838, Train accuracy: 0.824438, Val accuracy: 0.829431\n",
      "Average loss: 0.536333, Train accuracy: 0.832935, Val accuracy: 0.822742\n",
      "Average loss: 0.514728, Train accuracy: 0.838412, Val accuracy: 0.835370\n",
      "Average loss: 0.495889, Train accuracy: 0.846261, Val accuracy: 0.834824\n",
      "Average loss: 0.477629, Train accuracy: 0.851227, Val accuracy: 0.844720\n",
      "CPU times: user 3min 20s, sys: 4.2 s, total: 3min 24s\n",
      "Wall time: 3min 25s\n"
     ]
    }
   ],
   "source": [
    "torch.manual_seed(0)\n",
    "\n",
    "torch.backends.cudnn.deterministic = True\n",
    "torch.backends.cudnn.benchmark = False\n",
    "\n",
    "np.random.seed(0)\n",
    "\n",
    "nn_model = nn.Sequential(    \n",
    "    Flattener(),\n",
    "    nn.Linear(3 * 32 * 32, 500),\n",
    "    nn.BatchNorm1d(500),\n",
    "    nn.ReLU(inplace = True),\n",
    "    nn.Linear(500, 100),\n",
    "    nn.BatchNorm1d(100),\n",
    "    nn.ReLU(inplace = True),\n",
    "    nn.Linear(100, 10),\n",
    "     )\n",
    "\n",
    "nn_model.to(calc_device)\n",
    "# stepped_optimizer = optim.SGD(nn_model.parameters(), lr=1e-2, weight_decay=1e-1)\n",
    "# scheduler = optim.lr_scheduler.StepLR(optimizer, step_size = 2, gamma = 0.5)\n",
    "optimizer = optim.Adagrad(nn_model.parameters(), lr=1e-2)\n",
    "\n",
    "# optimizer = optim.SGD(nn_model.parameters(), lr=1e-2, weight_decay=1e-1)\n",
    "# loss_history, train_history, val_history = train_model()\n",
    "%time loss_history, train_history, val_history = train_model(nn_model, train_loader, val_loader, loss, optimizer, 10)\n",
    "# %time loss_history, train_history, val_history = train_model(nn_model, train_loader, val_loader, loss, stepped_optimizer, 10, scheduler)"
   ]
  },
  {
   "cell_type": "code",
   "execution_count": 62,
   "metadata": {
    "colab": {
     "base_uri": "https://localhost:8080/",
     "height": 260
    },
    "colab_type": "code",
    "id": "xfz_tvGCQfeI",
    "outputId": "9cba8c6f-82be-466f-8fd9-84290ada2e47"
   },
   "outputs": [
    {
     "name": "stdout",
     "output_type": "stream",
     "text": [
      "Average loss: 1.351311, Train accuracy: 0.565369, Val accuracy: 0.612586\n",
      "Average loss: 0.895164, Train accuracy: 0.720882, Val accuracy: 0.746365\n",
      "Average loss: 0.711069, Train accuracy: 0.782531, Val accuracy: 0.801584\n",
      "Average loss: 0.657264, Train accuracy: 0.799526, Val accuracy: 0.803153\n",
      "Average loss: 0.602912, Train accuracy: 0.813364, Val accuracy: 0.824244\n",
      "Average loss: 0.581375, Train accuracy: 0.822868, Val accuracy: 0.830797\n",
      "Average loss: 0.554657, Train accuracy: 0.831963, Val accuracy: 0.832093\n",
      "Average loss: 0.545818, Train accuracy: 0.834505, Val accuracy: 0.837144\n",
      "Average loss: 0.536098, Train accuracy: 0.837764, Val accuracy: 0.837349\n",
      "Average loss: 0.529701, Train accuracy: 0.840631, Val accuracy: 0.838851\n",
      "Average loss: 0.522371, Train accuracy: 0.841808, Val accuracy: 0.839874\n",
      "Average loss: 0.519115, Train accuracy: 0.844282, Val accuracy: 0.837963\n",
      "CPU times: user 4min 4s, sys: 5.02 s, total: 4min 9s\n",
      "Wall time: 4min 10s\n"
     ]
    }
   ],
   "source": [
    "torch.manual_seed(0)\n",
    "\n",
    "torch.backends.cudnn.deterministic = True\n",
    "torch.backends.cudnn.benchmark = False\n",
    "\n",
    "np.random.seed(0)\n",
    "\n",
    "nn_model = nn.Sequential(    \n",
    "    Flattener(),\n",
    "    nn.Linear(3 * 32 * 32, 500),\n",
    "    nn.BatchNorm1d(500),\n",
    "    nn.ReLU(inplace = True),\n",
    "    nn.Linear(500, 100),\n",
    "    nn.BatchNorm1d(100),\n",
    "    nn.ReLU(inplace = True),\n",
    "    nn.Linear(100, 10),\n",
    "     )\n",
    "\n",
    "nn_model.to(calc_device)\n",
    "stepped_optimizer = optim.Adagrad(nn_model.parameters(), lr=1e-2, weight_decay=1e-3)\n",
    "scheduler = optim.lr_scheduler.StepLR(stepped_optimizer, step_size = 2, gamma = 0.5)\n",
    "# optimizer = optim.Adagrad(nn_model.parameters(), lr=1e-2)\n",
    "\n",
    "# optimizer = optim.SGD(nn_model.parameters(), lr=1e-2, weight_decay=1e-1)\n",
    "# loss_history, train_history, val_history = train_model()\n",
    "# %time loss_history, train_history, val_history = train_model(nn_model, train_loader, val_loader, loss, optimizer, 10)\n",
    "# %time loss_history, train_history, val_history = train_model(nn_model, train_loader, val_loader, loss, stepped_optimizer, 10)\n",
    "%time loss_history, train_history, val_history = train_model(nn_model, train_loader, val_loader, loss, stepped_optimizer, 12, scheduler)"
   ]
  },
  {
   "cell_type": "code",
   "execution_count": 51,
   "metadata": {
    "colab": {
     "base_uri": "https://localhost:8080/",
     "height": 225
    },
    "colab_type": "code",
    "id": "jDp8dB6mQwsh",
    "outputId": "c6f374fb-9290-413b-ef29-a5370eef1d52"
   },
   "outputs": [
    {
     "name": "stdout",
     "output_type": "stream",
     "text": [
      "Average loss: 1.298677, Train accuracy: 0.575214, Val accuracy: 0.666644\n",
      "Average loss: 0.893731, Train accuracy: 0.719602, Val accuracy: 0.745546\n",
      "Average loss: 0.778104, Train accuracy: 0.756237, Val accuracy: 0.781926\n",
      "Average loss: 0.709333, Train accuracy: 0.778504, Val accuracy: 0.775032\n",
      "Average loss: 0.666995, Train accuracy: 0.790431, Val accuracy: 0.805201\n",
      "Average loss: 0.624925, Train accuracy: 0.805293, Val accuracy: 0.814552\n",
      "Average loss: 0.594587, Train accuracy: 0.814763, Val accuracy: 0.799741\n",
      "Average loss: 0.572233, Train accuracy: 0.820991, Val accuracy: 0.821855\n",
      "Average loss: 0.554846, Train accuracy: 0.825513, Val accuracy: 0.818374\n",
      "Average loss: 0.534786, Train accuracy: 0.833072, Val accuracy: 0.817350\n",
      "CPU times: user 3min 23s, sys: 4.51 s, total: 3min 27s\n",
      "Wall time: 3min 28s\n"
     ]
    }
   ],
   "source": [
    "torch.manual_seed(0)\n",
    "\n",
    "torch.backends.cudnn.deterministic = True\n",
    "torch.backends.cudnn.benchmark = False\n",
    "\n",
    "np.random.seed(0)\n",
    "\n",
    "nn_model = nn.Sequential(    \n",
    "    Flattener(),\n",
    "    nn.Linear(3 * 32 * 32, 500),\n",
    "    nn.BatchNorm1d(500),\n",
    "    nn.ReLU(inplace = True),\n",
    "    nn.Linear(500, 100),\n",
    "    nn.BatchNorm1d(100),\n",
    "    nn.ReLU(inplace = True),\n",
    "    nn.Linear(100, 10),\n",
    "     )\n",
    "\n",
    "nn_model.to(calc_device)\n",
    "# stepped_optimizer = optim.SGD(nn_model.parameters(), lr=1e-2, weight_decay=1e-1)\n",
    "# scheduler = optim.lr_scheduler.StepLR(optimizer, step_size = 2, gamma = 0.5)\n",
    "optimizer = optim.RMSprop(nn_model.parameters(), lr=5e-3)\n",
    "\n",
    "# optimizer = optim.SGD(nn_model.parameters(), lr=1e-2, weight_decay=1e-1)\n",
    "# loss_history, train_history, val_history = train_model()\n",
    "%time loss_history, train_history, val_history = train_model(nn_model, train_loader, val_loader, loss, optimizer, 10)\n",
    "# %time loss_history, train_history, val_history = train_model(nn_model, train_loader, val_loader, loss, stepped_optimizer, 10, scheduler)"
   ]
  },
  {
   "cell_type": "code",
   "execution_count": 63,
   "metadata": {
    "colab": {
     "base_uri": "https://localhost:8080/",
     "height": 34
    },
    "colab_type": "code",
    "id": "RbNASr7fDHBl",
    "outputId": "1de89d12-691b-46a1-b4e9-eecf2819f0d5"
   },
   "outputs": [
    {
     "name": "stdout",
     "output_type": "stream",
     "text": [
      "Test accuracy: 0.8171\n"
     ]
    }
   ],
   "source": [
    "# Как всегда, в конце проверяем на test set\n",
    "test_loader = torch.utils.data.DataLoader(data_test, batch_size=batch_size)\n",
    "test_accuracy = compute_accuracy(nn_model, test_loader)\n",
    "print(\"Test accuracy: %2.4f\" % test_accuracy)"
   ]
  }
 ],
 "metadata": {
  "accelerator": "GPU",
  "colab": {
   "collapsed_sections": [],
   "name": "PyTorch.ipynb",
   "provenance": [],
   "version": "0.3.2"
  },
  "kernelspec": {
   "display_name": "Python 3",
   "language": "python",
   "name": "python3"
  },
  "language_info": {
   "codemirror_mode": {
    "name": "ipython",
    "version": 3
   },
   "file_extension": ".py",
   "mimetype": "text/x-python",
   "name": "python",
   "nbconvert_exporter": "python",
   "pygments_lexer": "ipython3",
   "version": "3.5.2"
  }
 },
 "nbformat": 4,
 "nbformat_minor": 1
}
